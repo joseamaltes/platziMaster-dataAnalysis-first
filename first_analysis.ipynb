{
  "nbformat": 4,
  "nbformat_minor": 0,
  "metadata": {
    "colab": {
      "name": "first_analysis.ipynb",
      "provenance": []
    },
    "kernelspec": {
      "name": "python3",
      "display_name": "Python 3"
    },
    "language_info": {
      "name": "python"
    }
  },
  "cells": [
    {
      "cell_type": "code",
      "metadata": {
        "id": "vsNhXM7eaRWf"
      },
      "source": [
        "import numpy as np \n",
        "import pandas as pd \n",
        "import matplotlib.pyplot as plt\n",
        "import seaborn as sns"
      ],
      "execution_count": 1,
      "outputs": []
    },
    {
      "cell_type": "code",
      "metadata": {
        "id": "r9AFxV1laj_l",
        "colab": {
          "base_uri": "https://localhost:8080/"
        },
        "outputId": "644630ef-1a94-4e03-efc8-6b421dbcbc54"
      },
      "source": [
        "from google.colab import drive\n",
        "drive.mount('/content/drive')"
      ],
      "execution_count": 2,
      "outputs": [
        {
          "output_type": "stream",
          "name": "stdout",
          "text": [
            "Drive already mounted at /content/drive; to attempt to forcibly remount, call drive.mount(\"/content/drive\", force_remount=True).\n"
          ]
        }
      ]
    },
    {
      "cell_type": "code",
      "metadata": {
        "id": "u1VhW-UkaXli"
      },
      "source": [
        "hospital_df = pd.read_csv('/content/drive/MyDrive/Platzi-master/data_analysis/first_analysis/db/hospital-charges.csv')"
      ],
      "execution_count": 3,
      "outputs": []
    },
    {
      "cell_type": "code",
      "metadata": {
        "colab": {
          "base_uri": "https://localhost:8080/",
          "height": 519
        },
        "id": "gLVC7AynbRdT",
        "outputId": "74a90ca3-4600-4e83-cdb9-28900194b5d6"
      },
      "source": [
        "#Let's see how the dataframe is \n",
        "hospital_df.head()"
      ],
      "execution_count": 4,
      "outputs": [
        {
          "output_type": "execute_result",
          "data": {
            "text/html": [
              "<div>\n",
              "<style scoped>\n",
              "    .dataframe tbody tr th:only-of-type {\n",
              "        vertical-align: middle;\n",
              "    }\n",
              "\n",
              "    .dataframe tbody tr th {\n",
              "        vertical-align: top;\n",
              "    }\n",
              "\n",
              "    .dataframe thead th {\n",
              "        text-align: right;\n",
              "    }\n",
              "</style>\n",
              "<table border=\"1\" class=\"dataframe\">\n",
              "  <thead>\n",
              "    <tr style=\"text-align: right;\">\n",
              "      <th></th>\n",
              "      <th>DRG Definition</th>\n",
              "      <th>Provider Id</th>\n",
              "      <th>Provider Name</th>\n",
              "      <th>Provider Street Address</th>\n",
              "      <th>Provider City</th>\n",
              "      <th>Provider State</th>\n",
              "      <th>Provider Zip Code</th>\n",
              "      <th>Hospital Referral Region Description</th>\n",
              "      <th>Total Discharges</th>\n",
              "      <th>Average Covered Charges</th>\n",
              "      <th>Average Total Payments</th>\n",
              "      <th>Average Medicare Payments</th>\n",
              "    </tr>\n",
              "  </thead>\n",
              "  <tbody>\n",
              "    <tr>\n",
              "      <th>0</th>\n",
              "      <td>039 - EXTRACRANIAL PROCEDURES W/O CC/MCC</td>\n",
              "      <td>10001</td>\n",
              "      <td>SOUTHEAST ALABAMA MEDICAL CENTER</td>\n",
              "      <td>1108 ROSS CLARK CIRCLE</td>\n",
              "      <td>DOTHAN</td>\n",
              "      <td>AL</td>\n",
              "      <td>36301</td>\n",
              "      <td>AL - Dothan</td>\n",
              "      <td>91</td>\n",
              "      <td>$32963.07</td>\n",
              "      <td>$5777.24</td>\n",
              "      <td>$4763.73</td>\n",
              "    </tr>\n",
              "    <tr>\n",
              "      <th>1</th>\n",
              "      <td>039 - EXTRACRANIAL PROCEDURES W/O CC/MCC</td>\n",
              "      <td>10005</td>\n",
              "      <td>MARSHALL MEDICAL CENTER SOUTH</td>\n",
              "      <td>2505 U S HIGHWAY 431 NORTH</td>\n",
              "      <td>BOAZ</td>\n",
              "      <td>AL</td>\n",
              "      <td>35957</td>\n",
              "      <td>AL - Birmingham</td>\n",
              "      <td>14</td>\n",
              "      <td>$15131.85</td>\n",
              "      <td>$5787.57</td>\n",
              "      <td>$4976.71</td>\n",
              "    </tr>\n",
              "    <tr>\n",
              "      <th>2</th>\n",
              "      <td>039 - EXTRACRANIAL PROCEDURES W/O CC/MCC</td>\n",
              "      <td>10006</td>\n",
              "      <td>ELIZA COFFEE MEMORIAL HOSPITAL</td>\n",
              "      <td>205 MARENGO STREET</td>\n",
              "      <td>FLORENCE</td>\n",
              "      <td>AL</td>\n",
              "      <td>35631</td>\n",
              "      <td>AL - Birmingham</td>\n",
              "      <td>24</td>\n",
              "      <td>$37560.37</td>\n",
              "      <td>$5434.95</td>\n",
              "      <td>$4453.79</td>\n",
              "    </tr>\n",
              "    <tr>\n",
              "      <th>3</th>\n",
              "      <td>039 - EXTRACRANIAL PROCEDURES W/O CC/MCC</td>\n",
              "      <td>10011</td>\n",
              "      <td>ST VINCENT'S EAST</td>\n",
              "      <td>50 MEDICAL PARK EAST DRIVE</td>\n",
              "      <td>BIRMINGHAM</td>\n",
              "      <td>AL</td>\n",
              "      <td>35235</td>\n",
              "      <td>AL - Birmingham</td>\n",
              "      <td>25</td>\n",
              "      <td>$13998.28</td>\n",
              "      <td>$5417.56</td>\n",
              "      <td>$4129.16</td>\n",
              "    </tr>\n",
              "    <tr>\n",
              "      <th>4</th>\n",
              "      <td>039 - EXTRACRANIAL PROCEDURES W/O CC/MCC</td>\n",
              "      <td>10016</td>\n",
              "      <td>SHELBY BAPTIST MEDICAL CENTER</td>\n",
              "      <td>1000 FIRST STREET NORTH</td>\n",
              "      <td>ALABASTER</td>\n",
              "      <td>AL</td>\n",
              "      <td>35007</td>\n",
              "      <td>AL - Birmingham</td>\n",
              "      <td>18</td>\n",
              "      <td>$31633.27</td>\n",
              "      <td>$5658.33</td>\n",
              "      <td>$4851.44</td>\n",
              "    </tr>\n",
              "  </tbody>\n",
              "</table>\n",
              "</div>"
            ],
            "text/plain": [
              "                             DRG Definition  ...  Average Medicare Payments\n",
              "0  039 - EXTRACRANIAL PROCEDURES W/O CC/MCC  ...                   $4763.73\n",
              "1  039 - EXTRACRANIAL PROCEDURES W/O CC/MCC  ...                   $4976.71\n",
              "2  039 - EXTRACRANIAL PROCEDURES W/O CC/MCC  ...                   $4453.79\n",
              "3  039 - EXTRACRANIAL PROCEDURES W/O CC/MCC  ...                   $4129.16\n",
              "4  039 - EXTRACRANIAL PROCEDURES W/O CC/MCC  ...                   $4851.44\n",
              "\n",
              "[5 rows x 12 columns]"
            ]
          },
          "metadata": {},
          "execution_count": 4
        }
      ]
    },
    {
      "cell_type": "code",
      "metadata": {
        "colab": {
          "base_uri": "https://localhost:8080/"
        },
        "id": "azxMUO0cbfuC",
        "outputId": "620fa1be-a715-4e30-af52-323c8b736918"
      },
      "source": [
        "#Analize the columns \n",
        "hospital_df.columns"
      ],
      "execution_count": 5,
      "outputs": [
        {
          "output_type": "execute_result",
          "data": {
            "text/plain": [
              "Index(['DRG Definition', 'Provider Id', 'Provider Name',\n",
              "       'Provider Street Address', 'Provider City', 'Provider State',\n",
              "       'Provider Zip Code', 'Hospital Referral Region Description',\n",
              "       ' Total Discharges ', ' Average Covered Charges ',\n",
              "       ' Average Total Payments ', 'Average Medicare Payments'],\n",
              "      dtype='object')"
            ]
          },
          "metadata": {},
          "execution_count": 5
        }
      ]
    },
    {
      "cell_type": "code",
      "metadata": {
        "colab": {
          "base_uri": "https://localhost:8080/"
        },
        "id": "tjC4U951bl0E",
        "outputId": "d528e556-cae3-42d2-ea18-245f4a2637d5"
      },
      "source": [
        "hospital_df.dtypes"
      ],
      "execution_count": 6,
      "outputs": [
        {
          "output_type": "execute_result",
          "data": {
            "text/plain": [
              "DRG Definition                          object\n",
              "Provider Id                              int64\n",
              "Provider Name                           object\n",
              "Provider Street Address                 object\n",
              "Provider City                           object\n",
              "Provider State                          object\n",
              "Provider Zip Code                        int64\n",
              "Hospital Referral Region Description    object\n",
              " Total Discharges                        int64\n",
              " Average Covered Charges                object\n",
              " Average Total Payments                 object\n",
              "Average Medicare Payments               object\n",
              "dtype: object"
            ]
          },
          "metadata": {},
          "execution_count": 6
        }
      ]
    },
    {
      "cell_type": "code",
      "metadata": {
        "colab": {
          "base_uri": "https://localhost:8080/",
          "height": 498
        },
        "id": "_L3wmozIb0Pi",
        "outputId": "a6a5426f-815d-4391-ac6b-e8880b283149"
      },
      "source": [
        "hospital_df.describe(include='all')"
      ],
      "execution_count": 7,
      "outputs": [
        {
          "output_type": "execute_result",
          "data": {
            "text/html": [
              "<div>\n",
              "<style scoped>\n",
              "    .dataframe tbody tr th:only-of-type {\n",
              "        vertical-align: middle;\n",
              "    }\n",
              "\n",
              "    .dataframe tbody tr th {\n",
              "        vertical-align: top;\n",
              "    }\n",
              "\n",
              "    .dataframe thead th {\n",
              "        text-align: right;\n",
              "    }\n",
              "</style>\n",
              "<table border=\"1\" class=\"dataframe\">\n",
              "  <thead>\n",
              "    <tr style=\"text-align: right;\">\n",
              "      <th></th>\n",
              "      <th>DRG Definition</th>\n",
              "      <th>Provider Id</th>\n",
              "      <th>Provider Name</th>\n",
              "      <th>Provider Street Address</th>\n",
              "      <th>Provider City</th>\n",
              "      <th>Provider State</th>\n",
              "      <th>Provider Zip Code</th>\n",
              "      <th>Hospital Referral Region Description</th>\n",
              "      <th>Total Discharges</th>\n",
              "      <th>Average Covered Charges</th>\n",
              "      <th>Average Total Payments</th>\n",
              "      <th>Average Medicare Payments</th>\n",
              "    </tr>\n",
              "  </thead>\n",
              "  <tbody>\n",
              "    <tr>\n",
              "      <th>count</th>\n",
              "      <td>163065</td>\n",
              "      <td>163065.000000</td>\n",
              "      <td>163065</td>\n",
              "      <td>163065</td>\n",
              "      <td>163065</td>\n",
              "      <td>163065</td>\n",
              "      <td>163065.000000</td>\n",
              "      <td>163065</td>\n",
              "      <td>163065.000000</td>\n",
              "      <td>163065</td>\n",
              "      <td>163065</td>\n",
              "      <td>163065</td>\n",
              "    </tr>\n",
              "    <tr>\n",
              "      <th>unique</th>\n",
              "      <td>100</td>\n",
              "      <td>NaN</td>\n",
              "      <td>3201</td>\n",
              "      <td>3326</td>\n",
              "      <td>1977</td>\n",
              "      <td>51</td>\n",
              "      <td>NaN</td>\n",
              "      <td>306</td>\n",
              "      <td>NaN</td>\n",
              "      <td>160236</td>\n",
              "      <td>147842</td>\n",
              "      <td>150328</td>\n",
              "    </tr>\n",
              "    <tr>\n",
              "      <th>top</th>\n",
              "      <td>194 - SIMPLE PNEUMONIA &amp; PLEURISY W CC</td>\n",
              "      <td>NaN</td>\n",
              "      <td>GOOD SAMARITAN HOSPITAL</td>\n",
              "      <td>100 MEDICAL CENTER DRIVE</td>\n",
              "      <td>CHICAGO</td>\n",
              "      <td>CA</td>\n",
              "      <td>NaN</td>\n",
              "      <td>CA - Los Angeles</td>\n",
              "      <td>NaN</td>\n",
              "      <td>$31155.00</td>\n",
              "      <td>$4370.00</td>\n",
              "      <td>$5372.00</td>\n",
              "    </tr>\n",
              "    <tr>\n",
              "      <th>freq</th>\n",
              "      <td>3023</td>\n",
              "      <td>NaN</td>\n",
              "      <td>633</td>\n",
              "      <td>183</td>\n",
              "      <td>1505</td>\n",
              "      <td>13064</td>\n",
              "      <td>NaN</td>\n",
              "      <td>3653</td>\n",
              "      <td>NaN</td>\n",
              "      <td>4</td>\n",
              "      <td>9</td>\n",
              "      <td>5</td>\n",
              "    </tr>\n",
              "    <tr>\n",
              "      <th>mean</th>\n",
              "      <td>NaN</td>\n",
              "      <td>255569.865428</td>\n",
              "      <td>NaN</td>\n",
              "      <td>NaN</td>\n",
              "      <td>NaN</td>\n",
              "      <td>NaN</td>\n",
              "      <td>47938.121908</td>\n",
              "      <td>NaN</td>\n",
              "      <td>42.776304</td>\n",
              "      <td>NaN</td>\n",
              "      <td>NaN</td>\n",
              "      <td>NaN</td>\n",
              "    </tr>\n",
              "    <tr>\n",
              "      <th>std</th>\n",
              "      <td>NaN</td>\n",
              "      <td>151563.671767</td>\n",
              "      <td>NaN</td>\n",
              "      <td>NaN</td>\n",
              "      <td>NaN</td>\n",
              "      <td>NaN</td>\n",
              "      <td>27854.323080</td>\n",
              "      <td>NaN</td>\n",
              "      <td>51.104042</td>\n",
              "      <td>NaN</td>\n",
              "      <td>NaN</td>\n",
              "      <td>NaN</td>\n",
              "    </tr>\n",
              "    <tr>\n",
              "      <th>min</th>\n",
              "      <td>NaN</td>\n",
              "      <td>10001.000000</td>\n",
              "      <td>NaN</td>\n",
              "      <td>NaN</td>\n",
              "      <td>NaN</td>\n",
              "      <td>NaN</td>\n",
              "      <td>1040.000000</td>\n",
              "      <td>NaN</td>\n",
              "      <td>11.000000</td>\n",
              "      <td>NaN</td>\n",
              "      <td>NaN</td>\n",
              "      <td>NaN</td>\n",
              "    </tr>\n",
              "    <tr>\n",
              "      <th>25%</th>\n",
              "      <td>NaN</td>\n",
              "      <td>110092.000000</td>\n",
              "      <td>NaN</td>\n",
              "      <td>NaN</td>\n",
              "      <td>NaN</td>\n",
              "      <td>NaN</td>\n",
              "      <td>27261.000000</td>\n",
              "      <td>NaN</td>\n",
              "      <td>17.000000</td>\n",
              "      <td>NaN</td>\n",
              "      <td>NaN</td>\n",
              "      <td>NaN</td>\n",
              "    </tr>\n",
              "    <tr>\n",
              "      <th>50%</th>\n",
              "      <td>NaN</td>\n",
              "      <td>250007.000000</td>\n",
              "      <td>NaN</td>\n",
              "      <td>NaN</td>\n",
              "      <td>NaN</td>\n",
              "      <td>NaN</td>\n",
              "      <td>44309.000000</td>\n",
              "      <td>NaN</td>\n",
              "      <td>27.000000</td>\n",
              "      <td>NaN</td>\n",
              "      <td>NaN</td>\n",
              "      <td>NaN</td>\n",
              "    </tr>\n",
              "    <tr>\n",
              "      <th>75%</th>\n",
              "      <td>NaN</td>\n",
              "      <td>380075.000000</td>\n",
              "      <td>NaN</td>\n",
              "      <td>NaN</td>\n",
              "      <td>NaN</td>\n",
              "      <td>NaN</td>\n",
              "      <td>72901.000000</td>\n",
              "      <td>NaN</td>\n",
              "      <td>49.000000</td>\n",
              "      <td>NaN</td>\n",
              "      <td>NaN</td>\n",
              "      <td>NaN</td>\n",
              "    </tr>\n",
              "    <tr>\n",
              "      <th>max</th>\n",
              "      <td>NaN</td>\n",
              "      <td>670077.000000</td>\n",
              "      <td>NaN</td>\n",
              "      <td>NaN</td>\n",
              "      <td>NaN</td>\n",
              "      <td>NaN</td>\n",
              "      <td>99835.000000</td>\n",
              "      <td>NaN</td>\n",
              "      <td>3383.000000</td>\n",
              "      <td>NaN</td>\n",
              "      <td>NaN</td>\n",
              "      <td>NaN</td>\n",
              "    </tr>\n",
              "  </tbody>\n",
              "</table>\n",
              "</div>"
            ],
            "text/plain": [
              "                                DRG Definition  ...  Average Medicare Payments\n",
              "count                                   163065  ...                     163065\n",
              "unique                                     100  ...                     150328\n",
              "top     194 - SIMPLE PNEUMONIA & PLEURISY W CC  ...                   $5372.00\n",
              "freq                                      3023  ...                          5\n",
              "mean                                       NaN  ...                        NaN\n",
              "std                                        NaN  ...                        NaN\n",
              "min                                        NaN  ...                        NaN\n",
              "25%                                        NaN  ...                        NaN\n",
              "50%                                        NaN  ...                        NaN\n",
              "75%                                        NaN  ...                        NaN\n",
              "max                                        NaN  ...                        NaN\n",
              "\n",
              "[11 rows x 12 columns]"
            ]
          },
          "metadata": {},
          "execution_count": 7
        }
      ]
    },
    {
      "cell_type": "code",
      "metadata": {
        "colab": {
          "base_uri": "https://localhost:8080/"
        },
        "id": "IeUaqWMfch6D",
        "outputId": "745c70d8-442c-41b4-8bc8-0c8f6f52eb9b"
      },
      "source": [
        "#Check for null values \n",
        "hospital_df.isnull().sum()"
      ],
      "execution_count": 8,
      "outputs": [
        {
          "output_type": "execute_result",
          "data": {
            "text/plain": [
              "DRG Definition                          0\n",
              "Provider Id                             0\n",
              "Provider Name                           0\n",
              "Provider Street Address                 0\n",
              "Provider City                           0\n",
              "Provider State                          0\n",
              "Provider Zip Code                       0\n",
              "Hospital Referral Region Description    0\n",
              " Total Discharges                       0\n",
              " Average Covered Charges                0\n",
              " Average Total Payments                 0\n",
              "Average Medicare Payments               0\n",
              "dtype: int64"
            ]
          },
          "metadata": {},
          "execution_count": 8
        }
      ]
    },
    {
      "cell_type": "code",
      "metadata": {
        "id": "5nWD1jf0d3_X"
      },
      "source": [
        "#The prices have the $ and pandas takes them as string. So we replace the $\n",
        "hospital_df[' Average Covered Charges '] = pd.to_numeric(hospital_df[' Average Covered Charges '].str.replace('$',''))\n",
        "hospital_df[' Average Total Payments '] = pd.to_numeric(hospital_df[' Average Total Payments '].str.replace('$',''))\n",
        "hospital_df['Average Medicare Payments'] = pd.to_numeric(hospital_df['Average Medicare Payments'].str.replace('$',''))\n",
        "\n",
        "\n"
      ],
      "execution_count": 9,
      "outputs": []
    },
    {
      "cell_type": "code",
      "metadata": {
        "colab": {
          "base_uri": "https://localhost:8080/"
        },
        "id": "Sd2mJM59IkEJ",
        "outputId": "75683d67-d081-46e7-b3b8-23097a5bf8f0"
      },
      "source": [
        "hospital_df.dtypes"
      ],
      "execution_count": 10,
      "outputs": [
        {
          "output_type": "execute_result",
          "data": {
            "text/plain": [
              "DRG Definition                           object\n",
              "Provider Id                               int64\n",
              "Provider Name                            object\n",
              "Provider Street Address                  object\n",
              "Provider City                            object\n",
              "Provider State                           object\n",
              "Provider Zip Code                         int64\n",
              "Hospital Referral Region Description     object\n",
              " Total Discharges                         int64\n",
              " Average Covered Charges                float64\n",
              " Average Total Payments                 float64\n",
              "Average Medicare Payments               float64\n",
              "dtype: object"
            ]
          },
          "metadata": {},
          "execution_count": 10
        }
      ]
    },
    {
      "cell_type": "code",
      "metadata": {
        "colab": {
          "base_uri": "https://localhost:8080/",
          "height": 300
        },
        "id": "VUw0xrY-IlJF",
        "outputId": "c22affdc-e1b8-488d-d612-21d08af11a9c"
      },
      "source": [
        "\n",
        "hospital_df.describe()"
      ],
      "execution_count": 11,
      "outputs": [
        {
          "output_type": "execute_result",
          "data": {
            "text/html": [
              "<div>\n",
              "<style scoped>\n",
              "    .dataframe tbody tr th:only-of-type {\n",
              "        vertical-align: middle;\n",
              "    }\n",
              "\n",
              "    .dataframe tbody tr th {\n",
              "        vertical-align: top;\n",
              "    }\n",
              "\n",
              "    .dataframe thead th {\n",
              "        text-align: right;\n",
              "    }\n",
              "</style>\n",
              "<table border=\"1\" class=\"dataframe\">\n",
              "  <thead>\n",
              "    <tr style=\"text-align: right;\">\n",
              "      <th></th>\n",
              "      <th>Provider Id</th>\n",
              "      <th>Provider Zip Code</th>\n",
              "      <th>Total Discharges</th>\n",
              "      <th>Average Covered Charges</th>\n",
              "      <th>Average Total Payments</th>\n",
              "      <th>Average Medicare Payments</th>\n",
              "    </tr>\n",
              "  </thead>\n",
              "  <tbody>\n",
              "    <tr>\n",
              "      <th>count</th>\n",
              "      <td>163065.000000</td>\n",
              "      <td>163065.000000</td>\n",
              "      <td>163065.000000</td>\n",
              "      <td>163065.000000</td>\n",
              "      <td>163065.000000</td>\n",
              "      <td>163065.000000</td>\n",
              "    </tr>\n",
              "    <tr>\n",
              "      <th>mean</th>\n",
              "      <td>255569.865428</td>\n",
              "      <td>47938.121908</td>\n",
              "      <td>42.776304</td>\n",
              "      <td>36133.954224</td>\n",
              "      <td>9707.473804</td>\n",
              "      <td>8494.490964</td>\n",
              "    </tr>\n",
              "    <tr>\n",
              "      <th>std</th>\n",
              "      <td>151563.671767</td>\n",
              "      <td>27854.323080</td>\n",
              "      <td>51.104042</td>\n",
              "      <td>35065.365931</td>\n",
              "      <td>7664.642598</td>\n",
              "      <td>7309.467261</td>\n",
              "    </tr>\n",
              "    <tr>\n",
              "      <th>min</th>\n",
              "      <td>10001.000000</td>\n",
              "      <td>1040.000000</td>\n",
              "      <td>11.000000</td>\n",
              "      <td>2459.400000</td>\n",
              "      <td>2673.000000</td>\n",
              "      <td>1148.900000</td>\n",
              "    </tr>\n",
              "    <tr>\n",
              "      <th>25%</th>\n",
              "      <td>110092.000000</td>\n",
              "      <td>27261.000000</td>\n",
              "      <td>17.000000</td>\n",
              "      <td>15947.160000</td>\n",
              "      <td>5234.500000</td>\n",
              "      <td>4192.350000</td>\n",
              "    </tr>\n",
              "    <tr>\n",
              "      <th>50%</th>\n",
              "      <td>250007.000000</td>\n",
              "      <td>44309.000000</td>\n",
              "      <td>27.000000</td>\n",
              "      <td>25245.820000</td>\n",
              "      <td>7214.100000</td>\n",
              "      <td>6158.460000</td>\n",
              "    </tr>\n",
              "    <tr>\n",
              "      <th>75%</th>\n",
              "      <td>380075.000000</td>\n",
              "      <td>72901.000000</td>\n",
              "      <td>49.000000</td>\n",
              "      <td>43232.590000</td>\n",
              "      <td>11286.400000</td>\n",
              "      <td>10056.880000</td>\n",
              "    </tr>\n",
              "    <tr>\n",
              "      <th>max</th>\n",
              "      <td>670077.000000</td>\n",
              "      <td>99835.000000</td>\n",
              "      <td>3383.000000</td>\n",
              "      <td>929118.900000</td>\n",
              "      <td>156158.180000</td>\n",
              "      <td>154620.810000</td>\n",
              "    </tr>\n",
              "  </tbody>\n",
              "</table>\n",
              "</div>"
            ],
            "text/plain": [
              "         Provider Id  ...  Average Medicare Payments\n",
              "count  163065.000000  ...              163065.000000\n",
              "mean   255569.865428  ...                8494.490964\n",
              "std    151563.671767  ...                7309.467261\n",
              "min     10001.000000  ...                1148.900000\n",
              "25%    110092.000000  ...                4192.350000\n",
              "50%    250007.000000  ...                6158.460000\n",
              "75%    380075.000000  ...               10056.880000\n",
              "max    670077.000000  ...              154620.810000\n",
              "\n",
              "[8 rows x 6 columns]"
            ]
          },
          "metadata": {},
          "execution_count": 11
        }
      ]
    },
    {
      "cell_type": "code",
      "metadata": {
        "id": "5J6duUUIJLl_"
      },
      "source": [
        ""
      ],
      "execution_count": 11,
      "outputs": []
    },
    {
      "cell_type": "markdown",
      "metadata": {
        "id": "QRVFx5w8_8cQ"
      },
      "source": [
        "#Lets analyze by state to find out which state is the most expensive "
      ]
    },
    {
      "cell_type": "code",
      "metadata": {
        "id": "2yxhnWwiOVyb"
      },
      "source": [
        "hospital_df['Provider State'] = pd.Categorical(hospital_df['Provider State'].apply(str))"
      ],
      "execution_count": 12,
      "outputs": []
    },
    {
      "cell_type": "code",
      "metadata": {
        "colab": {
          "base_uri": "https://localhost:8080/"
        },
        "id": "nbOC67s6BOZF",
        "outputId": "df7e6ed4-82d3-4402-bfd2-73c7f0c07fd0"
      },
      "source": [
        "hospital_df.dtypes"
      ],
      "execution_count": 13,
      "outputs": [
        {
          "output_type": "execute_result",
          "data": {
            "text/plain": [
              "DRG Definition                            object\n",
              "Provider Id                                int64\n",
              "Provider Name                             object\n",
              "Provider Street Address                   object\n",
              "Provider City                             object\n",
              "Provider State                          category\n",
              "Provider Zip Code                          int64\n",
              "Hospital Referral Region Description      object\n",
              " Total Discharges                          int64\n",
              " Average Covered Charges                 float64\n",
              " Average Total Payments                  float64\n",
              "Average Medicare Payments                float64\n",
              "dtype: object"
            ]
          },
          "metadata": {},
          "execution_count": 13
        }
      ]
    },
    {
      "cell_type": "code",
      "metadata": {
        "colab": {
          "base_uri": "https://localhost:8080/",
          "height": 567
        },
        "id": "cAwiUY09CEg0",
        "outputId": "0e575992-6213-4f60-fa1a-9ee227bc71c5"
      },
      "source": [
        "df_organized = hospital_df.set_index(['Provider State']).sort_index()\n",
        "df_organized.head()"
      ],
      "execution_count": 14,
      "outputs": [
        {
          "output_type": "execute_result",
          "data": {
            "text/html": [
              "<div>\n",
              "<style scoped>\n",
              "    .dataframe tbody tr th:only-of-type {\n",
              "        vertical-align: middle;\n",
              "    }\n",
              "\n",
              "    .dataframe tbody tr th {\n",
              "        vertical-align: top;\n",
              "    }\n",
              "\n",
              "    .dataframe thead th {\n",
              "        text-align: right;\n",
              "    }\n",
              "</style>\n",
              "<table border=\"1\" class=\"dataframe\">\n",
              "  <thead>\n",
              "    <tr style=\"text-align: right;\">\n",
              "      <th></th>\n",
              "      <th>DRG Definition</th>\n",
              "      <th>Provider Id</th>\n",
              "      <th>Provider Name</th>\n",
              "      <th>Provider Street Address</th>\n",
              "      <th>Provider City</th>\n",
              "      <th>Provider Zip Code</th>\n",
              "      <th>Hospital Referral Region Description</th>\n",
              "      <th>Total Discharges</th>\n",
              "      <th>Average Covered Charges</th>\n",
              "      <th>Average Total Payments</th>\n",
              "      <th>Average Medicare Payments</th>\n",
              "    </tr>\n",
              "    <tr>\n",
              "      <th>Provider State</th>\n",
              "      <th></th>\n",
              "      <th></th>\n",
              "      <th></th>\n",
              "      <th></th>\n",
              "      <th></th>\n",
              "      <th></th>\n",
              "      <th></th>\n",
              "      <th></th>\n",
              "      <th></th>\n",
              "      <th></th>\n",
              "      <th></th>\n",
              "    </tr>\n",
              "  </thead>\n",
              "  <tbody>\n",
              "    <tr>\n",
              "      <th>AK</th>\n",
              "      <td>329 - MAJOR SMALL &amp; LARGE BOWEL PROCEDURES W MCC</td>\n",
              "      <td>20012</td>\n",
              "      <td>FAIRBANKS MEMORIAL HOSPITAL</td>\n",
              "      <td>1650 COWLES STREET</td>\n",
              "      <td>FAIRBANKS</td>\n",
              "      <td>99701</td>\n",
              "      <td>AK - Anchorage</td>\n",
              "      <td>13</td>\n",
              "      <td>109476.92</td>\n",
              "      <td>77566.38</td>\n",
              "      <td>76608.53</td>\n",
              "    </tr>\n",
              "    <tr>\n",
              "      <th>AK</th>\n",
              "      <td>481 - HIP &amp; FEMUR PROCEDURES EXCEPT MAJOR JOIN...</td>\n",
              "      <td>20026</td>\n",
              "      <td>ALASKA NATIVE MEDICAL CENTER</td>\n",
              "      <td>4315 DIPLOMACY DR</td>\n",
              "      <td>ANCHORAGE</td>\n",
              "      <td>99508</td>\n",
              "      <td>AK - Anchorage</td>\n",
              "      <td>18</td>\n",
              "      <td>38800.77</td>\n",
              "      <td>23783.44</td>\n",
              "      <td>22841.88</td>\n",
              "    </tr>\n",
              "    <tr>\n",
              "      <th>AK</th>\n",
              "      <td>481 - HIP &amp; FEMUR PROCEDURES EXCEPT MAJOR JOIN...</td>\n",
              "      <td>20012</td>\n",
              "      <td>FAIRBANKS MEMORIAL HOSPITAL</td>\n",
              "      <td>1650 COWLES STREET</td>\n",
              "      <td>FAIRBANKS</td>\n",
              "      <td>99701</td>\n",
              "      <td>AK - Anchorage</td>\n",
              "      <td>13</td>\n",
              "      <td>54546.38</td>\n",
              "      <td>26139.92</td>\n",
              "      <td>25102.38</td>\n",
              "    </tr>\n",
              "    <tr>\n",
              "      <th>AK</th>\n",
              "      <td>481 - HIP &amp; FEMUR PROCEDURES EXCEPT MAJOR JOIN...</td>\n",
              "      <td>20001</td>\n",
              "      <td>PROVIDENCE ALASKA MEDICAL CENTER</td>\n",
              "      <td>BOX 196604</td>\n",
              "      <td>ANCHORAGE</td>\n",
              "      <td>99519</td>\n",
              "      <td>AK - Anchorage</td>\n",
              "      <td>26</td>\n",
              "      <td>66346.50</td>\n",
              "      <td>16523.88</td>\n",
              "      <td>15662.96</td>\n",
              "    </tr>\n",
              "    <tr>\n",
              "      <th>AK</th>\n",
              "      <td>389 - G.I. OBSTRUCTION W CC</td>\n",
              "      <td>20001</td>\n",
              "      <td>PROVIDENCE ALASKA MEDICAL CENTER</td>\n",
              "      <td>BOX 196604</td>\n",
              "      <td>ANCHORAGE</td>\n",
              "      <td>99519</td>\n",
              "      <td>AK - Anchorage</td>\n",
              "      <td>14</td>\n",
              "      <td>29477.92</td>\n",
              "      <td>8797.92</td>\n",
              "      <td>6749.00</td>\n",
              "    </tr>\n",
              "  </tbody>\n",
              "</table>\n",
              "</div>"
            ],
            "text/plain": [
              "                                                   DRG Definition  ...  Average Medicare Payments\n",
              "Provider State                                                     ...                           \n",
              "AK               329 - MAJOR SMALL & LARGE BOWEL PROCEDURES W MCC  ...                   76608.53\n",
              "AK              481 - HIP & FEMUR PROCEDURES EXCEPT MAJOR JOIN...  ...                   22841.88\n",
              "AK              481 - HIP & FEMUR PROCEDURES EXCEPT MAJOR JOIN...  ...                   25102.38\n",
              "AK              481 - HIP & FEMUR PROCEDURES EXCEPT MAJOR JOIN...  ...                   15662.96\n",
              "AK                                    389 - G.I. OBSTRUCTION W CC  ...                    6749.00\n",
              "\n",
              "[5 rows x 11 columns]"
            ]
          },
          "metadata": {},
          "execution_count": 14
        }
      ]
    },
    {
      "cell_type": "code",
      "metadata": {
        "colab": {
          "base_uri": "https://localhost:8080/"
        },
        "id": "AgJSay1rFeTa",
        "outputId": "c5671fef-8d02-4a71-eb0e-11d5bd8b52b0"
      },
      "source": [
        "hospital_df['DRG Definition'].value_counts()"
      ],
      "execution_count": 15,
      "outputs": [
        {
          "output_type": "execute_result",
          "data": {
            "text/plain": [
              "194 - SIMPLE PNEUMONIA & PLEURISY W CC                                      3023\n",
              "690 - KIDNEY & URINARY TRACT INFECTIONS W/O MCC                             2989\n",
              "292 - HEART FAILURE & SHOCK W CC                                            2953\n",
              "392 - ESOPHAGITIS, GASTROENT & MISC DIGEST DISORDERS W/O MCC                2950\n",
              "641 - MISC DISORDERS OF NUTRITION,METABOLISM,FLUIDS/ELECTROLYTES W/O MCC    2899\n",
              "                                                                            ... \n",
              "315 - OTHER CIRCULATORY SYSTEM DIAGNOSES W CC                                859\n",
              "473 - CERVICAL SPINAL FUSION W/O CC/MCC                                      846\n",
              "917 - POISONING & TOXIC EFFECTS OF DRUGS W MCC                               843\n",
              "251 - PERC CARDIOVASC PROC W/O CORONARY ARTERY STENT W/O MCC                 727\n",
              "885 - PSYCHOSES                                                              613\n",
              "Name: DRG Definition, Length: 100, dtype: int64"
            ]
          },
          "metadata": {},
          "execution_count": 15
        }
      ]
    },
    {
      "cell_type": "code",
      "metadata": {
        "colab": {
          "base_uri": "https://localhost:8080/"
        },
        "id": "bI01aDvPGwuA",
        "outputId": "c0389cb0-a2b1-4d14-9058-c31382aed3b7"
      },
      "source": [
        "hospital_df['DRG Definition'].value_counts()"
      ],
      "execution_count": 16,
      "outputs": [
        {
          "output_type": "execute_result",
          "data": {
            "text/plain": [
              "194 - SIMPLE PNEUMONIA & PLEURISY W CC                                      3023\n",
              "690 - KIDNEY & URINARY TRACT INFECTIONS W/O MCC                             2989\n",
              "292 - HEART FAILURE & SHOCK W CC                                            2953\n",
              "392 - ESOPHAGITIS, GASTROENT & MISC DIGEST DISORDERS W/O MCC                2950\n",
              "641 - MISC DISORDERS OF NUTRITION,METABOLISM,FLUIDS/ELECTROLYTES W/O MCC    2899\n",
              "                                                                            ... \n",
              "315 - OTHER CIRCULATORY SYSTEM DIAGNOSES W CC                                859\n",
              "473 - CERVICAL SPINAL FUSION W/O CC/MCC                                      846\n",
              "917 - POISONING & TOXIC EFFECTS OF DRUGS W MCC                               843\n",
              "251 - PERC CARDIOVASC PROC W/O CORONARY ARTERY STENT W/O MCC                 727\n",
              "885 - PSYCHOSES                                                              613\n",
              "Name: DRG Definition, Length: 100, dtype: int64"
            ]
          },
          "metadata": {},
          "execution_count": 16
        }
      ]
    },
    {
      "cell_type": "code",
      "metadata": {
        "colab": {
          "base_uri": "https://localhost:8080/"
        },
        "id": "sWOGT70TKsJk",
        "outputId": "7c73bd6e-c348-420c-f3e2-94580391c070"
      },
      "source": [
        "df_organized.dtypes"
      ],
      "execution_count": 17,
      "outputs": [
        {
          "output_type": "execute_result",
          "data": {
            "text/plain": [
              "DRG Definition                           object\n",
              "Provider Id                               int64\n",
              "Provider Name                            object\n",
              "Provider Street Address                  object\n",
              "Provider City                            object\n",
              "Provider Zip Code                         int64\n",
              "Hospital Referral Region Description     object\n",
              " Total Discharges                         int64\n",
              " Average Covered Charges                float64\n",
              " Average Total Payments                 float64\n",
              "Average Medicare Payments               float64\n",
              "dtype: object"
            ]
          },
          "metadata": {},
          "execution_count": 17
        }
      ]
    },
    {
      "cell_type": "code",
      "metadata": {
        "id": "ttPbTbnvL_nl",
        "colab": {
          "base_uri": "https://localhost:8080/",
          "height": 515
        },
        "outputId": "19bc2a50-f5db-4a66-812d-8f4b916d4a17"
      },
      "source": [
        "df_organized.tail()"
      ],
      "execution_count": 18,
      "outputs": [
        {
          "output_type": "execute_result",
          "data": {
            "text/html": [
              "<div>\n",
              "<style scoped>\n",
              "    .dataframe tbody tr th:only-of-type {\n",
              "        vertical-align: middle;\n",
              "    }\n",
              "\n",
              "    .dataframe tbody tr th {\n",
              "        vertical-align: top;\n",
              "    }\n",
              "\n",
              "    .dataframe thead th {\n",
              "        text-align: right;\n",
              "    }\n",
              "</style>\n",
              "<table border=\"1\" class=\"dataframe\">\n",
              "  <thead>\n",
              "    <tr style=\"text-align: right;\">\n",
              "      <th></th>\n",
              "      <th>DRG Definition</th>\n",
              "      <th>Provider Id</th>\n",
              "      <th>Provider Name</th>\n",
              "      <th>Provider Street Address</th>\n",
              "      <th>Provider City</th>\n",
              "      <th>Provider Zip Code</th>\n",
              "      <th>Hospital Referral Region Description</th>\n",
              "      <th>Total Discharges</th>\n",
              "      <th>Average Covered Charges</th>\n",
              "      <th>Average Total Payments</th>\n",
              "      <th>Average Medicare Payments</th>\n",
              "    </tr>\n",
              "    <tr>\n",
              "      <th>Provider State</th>\n",
              "      <th></th>\n",
              "      <th></th>\n",
              "      <th></th>\n",
              "      <th></th>\n",
              "      <th></th>\n",
              "      <th></th>\n",
              "      <th></th>\n",
              "      <th></th>\n",
              "      <th></th>\n",
              "      <th></th>\n",
              "      <th></th>\n",
              "    </tr>\n",
              "  </thead>\n",
              "  <tbody>\n",
              "    <tr>\n",
              "      <th>WY</th>\n",
              "      <td>378 - G.I. HEMORRHAGE W CC</td>\n",
              "      <td>530010</td>\n",
              "      <td>LANDER REGIONAL HOSPITAL</td>\n",
              "      <td>1320 BISHOP RANDALL DR</td>\n",
              "      <td>LANDER</td>\n",
              "      <td>82520</td>\n",
              "      <td>WY - Casper</td>\n",
              "      <td>14</td>\n",
              "      <td>17995.14</td>\n",
              "      <td>7647.00</td>\n",
              "      <td>6769.00</td>\n",
              "    </tr>\n",
              "    <tr>\n",
              "      <th>WY</th>\n",
              "      <td>378 - G.I. HEMORRHAGE W CC</td>\n",
              "      <td>530011</td>\n",
              "      <td>MEMORIAL HOSPITAL SWEETWATER COUNTY</td>\n",
              "      <td>1200 COLLEGE DRIVE</td>\n",
              "      <td>ROCK SPRINGS</td>\n",
              "      <td>82901</td>\n",
              "      <td>UT - Salt Lake City</td>\n",
              "      <td>11</td>\n",
              "      <td>15760.09</td>\n",
              "      <td>10190.00</td>\n",
              "      <td>9166.72</td>\n",
              "    </tr>\n",
              "    <tr>\n",
              "      <th>WY</th>\n",
              "      <td>378 - G.I. HEMORRHAGE W CC</td>\n",
              "      <td>530012</td>\n",
              "      <td>WYOMING MEDICAL CENTER</td>\n",
              "      <td>1233 EAST 2ND ST</td>\n",
              "      <td>CASPER</td>\n",
              "      <td>82601</td>\n",
              "      <td>WY - Casper</td>\n",
              "      <td>39</td>\n",
              "      <td>24035.97</td>\n",
              "      <td>8260.41</td>\n",
              "      <td>5977.05</td>\n",
              "    </tr>\n",
              "    <tr>\n",
              "      <th>WY</th>\n",
              "      <td>190 - CHRONIC OBSTRUCTIVE PULMONARY DISEASE W MCC</td>\n",
              "      <td>530006</td>\n",
              "      <td>SHERIDAN MEMORIAL HOSPITAL</td>\n",
              "      <td>1401 W 5TH ST</td>\n",
              "      <td>SHERIDAN</td>\n",
              "      <td>82801</td>\n",
              "      <td>MT - Billings</td>\n",
              "      <td>33</td>\n",
              "      <td>28328.27</td>\n",
              "      <td>12550.39</td>\n",
              "      <td>11696.69</td>\n",
              "    </tr>\n",
              "    <tr>\n",
              "      <th>WY</th>\n",
              "      <td>300 - PERIPHERAL VASCULAR DISORDERS W CC</td>\n",
              "      <td>530012</td>\n",
              "      <td>WYOMING MEDICAL CENTER</td>\n",
              "      <td>1233 EAST 2ND ST</td>\n",
              "      <td>CASPER</td>\n",
              "      <td>82601</td>\n",
              "      <td>WY - Casper</td>\n",
              "      <td>15</td>\n",
              "      <td>15799.00</td>\n",
              "      <td>7070.40</td>\n",
              "      <td>5978.93</td>\n",
              "    </tr>\n",
              "  </tbody>\n",
              "</table>\n",
              "</div>"
            ],
            "text/plain": [
              "                                                   DRG Definition  ...  Average Medicare Payments\n",
              "Provider State                                                     ...                           \n",
              "WY                                     378 - G.I. HEMORRHAGE W CC  ...                    6769.00\n",
              "WY                                     378 - G.I. HEMORRHAGE W CC  ...                    9166.72\n",
              "WY                                     378 - G.I. HEMORRHAGE W CC  ...                    5977.05\n",
              "WY              190 - CHRONIC OBSTRUCTIVE PULMONARY DISEASE W MCC  ...                   11696.69\n",
              "WY                       300 - PERIPHERAL VASCULAR DISORDERS W CC  ...                    5978.93\n",
              "\n",
              "[5 rows x 11 columns]"
            ]
          },
          "metadata": {},
          "execution_count": 18
        }
      ]
    },
    {
      "cell_type": "code",
      "metadata": {
        "colab": {
          "base_uri": "https://localhost:8080/"
        },
        "id": "sQNfgsQ2fOV8",
        "outputId": "160e1fc9-bc46-4284-9e2e-13102ce20bda"
      },
      "source": [
        "df_organized.groupby('DRG Definition')[' Average Total Payments '].sum()"
      ],
      "execution_count": 19,
      "outputs": [
        {
          "output_type": "execute_result",
          "data": {
            "text/plain": [
              "DRG Definition\n",
              "039 - EXTRACRANIAL PROCEDURES W/O CC/MCC                                      7510416.19\n",
              "057 - DEGENERATIVE NERVOUS SYSTEM DISORDERS W/O MCC                           8054238.01\n",
              "064 - INTRACRANIAL HEMORRHAGE OR CEREBRAL INFARCTION W MCC                   22004682.41\n",
              "065 - INTRACRANIAL HEMORRHAGE OR CEREBRAL INFARCTION W CC                    17976540.82\n",
              "066 - INTRACRANIAL HEMORRHAGE OR CEREBRAL INFARCTION W/O CC/MCC              10319457.31\n",
              "                                                                                ...     \n",
              "885 - PSYCHOSES                                                               4271826.51\n",
              "897 - ALCOHOL/DRUG ABUSE OR DEPENDENCE W/O REHABILITATION THERAPY W/O MCC     4484616.02\n",
              "917 - POISONING & TOXIC EFFECTS OF DRUGS W MCC                                9073895.55\n",
              "918 - POISONING & TOXIC EFFECTS OF DRUGS W/O MCC                              6198793.41\n",
              "948 - SIGNS & SYMPTOMS W/O MCC                                                8650806.22\n",
              "Name:  Average Total Payments , Length: 100, dtype: float64"
            ]
          },
          "metadata": {},
          "execution_count": 19
        }
      ]
    },
    {
      "cell_type": "code",
      "metadata": {
        "colab": {
          "base_uri": "https://localhost:8080/"
        },
        "id": "O7RBuJJHjTPk",
        "outputId": "97303754-f897-4e79-a51e-7541ae91e205"
      },
      "source": [
        "df_organized.columns"
      ],
      "execution_count": 20,
      "outputs": [
        {
          "output_type": "execute_result",
          "data": {
            "text/plain": [
              "Index(['DRG Definition', 'Provider Id', 'Provider Name',\n",
              "       'Provider Street Address', 'Provider City', 'Provider Zip Code',\n",
              "       'Hospital Referral Region Description', ' Total Discharges ',\n",
              "       ' Average Covered Charges ', ' Average Total Payments ',\n",
              "       'Average Medicare Payments'],\n",
              "      dtype='object')"
            ]
          },
          "metadata": {},
          "execution_count": 20
        }
      ]
    },
    {
      "cell_type": "code",
      "metadata": {
        "colab": {
          "base_uri": "https://localhost:8080/"
        },
        "id": "5PKwpVymkkzq",
        "outputId": "2f858ef3-740a-491b-a345-fe6ddbb6a961"
      },
      "source": [
        "most_expensive_states = hospital_df.groupby('Provider State')[' Average Total Payments '].median().sort_values(ascending=False)\n",
        "most_expensive_states\n"
      ],
      "execution_count": 21,
      "outputs": [
        {
          "output_type": "execute_result",
          "data": {
            "text/plain": [
              "Provider State\n",
              "AK    11190.080\n",
              "HI    10148.470\n",
              "DC     9674.820\n",
              "CA     9378.010\n",
              "MD     9124.530\n",
              "VT     9038.380\n",
              "NY     8770.130\n",
              "WY     8614.380\n",
              "CT     8486.630\n",
              "OR     7984.860\n",
              "NJ     7950.240\n",
              "WA     7856.525\n",
              "RI     7795.985\n",
              "DE     7790.755\n",
              "AZ     7671.360\n",
              "MA     7648.350\n",
              "NV     7471.880\n",
              "ND     7441.730\n",
              "MN     7363.800\n",
              "UT     7357.040\n",
              "MI     7337.720\n",
              "NM     7313.890\n",
              "ID     7280.540\n",
              "IL     7262.640\n",
              "SD     7231.115\n",
              "MT     7228.905\n",
              "CO     7075.100\n",
              "NH     7002.260\n",
              "NE     6994.555\n",
              "WI     6970.795\n",
              "NC     6955.810\n",
              "TX     6927.475\n",
              "PA     6851.850\n",
              "ME     6802.275\n",
              "SC     6773.550\n",
              "GA     6699.030\n",
              "MO     6596.090\n",
              "IN     6595.335\n",
              "VA     6579.580\n",
              "OH     6578.980\n",
              "FL     6555.250\n",
              "LA     6515.910\n",
              "KS     6404.620\n",
              "IA     6384.710\n",
              "KY     6352.940\n",
              "OK     6295.630\n",
              "MS     6187.835\n",
              "TN     6184.575\n",
              "AR     6151.680\n",
              "WV     6102.370\n",
              "AL     5876.370\n",
              "Name:  Average Total Payments , dtype: float64"
            ]
          },
          "metadata": {},
          "execution_count": 21
        }
      ]
    },
    {
      "cell_type": "markdown",
      "metadata": {
        "id": "BVley4bExAMr"
      },
      "source": [
        "#TOP 5 ESTADOS MÁS CAROS Y  MÁS BARATOS"
      ]
    },
    {
      "cell_type": "code",
      "metadata": {
        "colab": {
          "base_uri": "https://localhost:8080/"
        },
        "id": "b8_AfqZFxIgs",
        "outputId": "c42f1017-dc0a-4595-a63c-061aaf79dcf9"
      },
      "source": [
        "#Most expensive states \n",
        "top_5_expensive = most_expensive_states[:5]\n",
        "top_5_expensive\n"
      ],
      "execution_count": 22,
      "outputs": [
        {
          "output_type": "execute_result",
          "data": {
            "text/plain": [
              "Provider State\n",
              "AK    11190.08\n",
              "HI    10148.47\n",
              "DC     9674.82\n",
              "CA     9378.01\n",
              "MD     9124.53\n",
              "Name:  Average Total Payments , dtype: float64"
            ]
          },
          "metadata": {},
          "execution_count": 22
        }
      ]
    },
    {
      "cell_type": "code",
      "metadata": {
        "colab": {
          "base_uri": "https://localhost:8080/"
        },
        "id": "ZLxO0KOExxK-",
        "outputId": "6e850d2d-afcd-4de8-95ba-0e80151de879"
      },
      "source": [
        "#Chepear states\n",
        "top_5_cheaper = most_expensive_states.sort_values(ascending=True)[:5]\n",
        "top_5_cheaper"
      ],
      "execution_count": 23,
      "outputs": [
        {
          "output_type": "execute_result",
          "data": {
            "text/plain": [
              "Provider State\n",
              "AL    5876.370\n",
              "WV    6102.370\n",
              "AR    6151.680\n",
              "TN    6184.575\n",
              "MS    6187.835\n",
              "Name:  Average Total Payments , dtype: float64"
            ]
          },
          "metadata": {},
          "execution_count": 23
        }
      ]
    },
    {
      "cell_type": "code",
      "metadata": {
        "colab": {
          "base_uri": "https://localhost:8080/"
        },
        "id": "MBqzqiP46q1v",
        "outputId": "aa334cb3-df24-4baa-9aab-db6573682266"
      },
      "source": [
        "hospital_df[' Average Covered Charges ']-hospital_df[' Average Total Payments ']-hospital_df['Average Medicare Payments']"
      ],
      "execution_count": 24,
      "outputs": [
        {
          "output_type": "execute_result",
          "data": {
            "text/plain": [
              "0         22422.10\n",
              "1          4367.57\n",
              "2         27671.63\n",
              "3          4451.56\n",
              "4         21123.50\n",
              "            ...   \n",
              "163060    19436.14\n",
              "163061    15027.64\n",
              "163062    29359.01\n",
              "163063    14361.46\n",
              "163064     8614.84\n",
              "Length: 163065, dtype: float64"
            ]
          },
          "metadata": {},
          "execution_count": 24
        }
      ]
    },
    {
      "cell_type": "code",
      "metadata": {
        "colab": {
          "base_uri": "https://localhost:8080/"
        },
        "id": "GVJgVJhimhiV",
        "outputId": "1b15fdf7-c76c-4ce0-f3bc-6888de17970b"
      },
      "source": [
        "hospital_df.groupby(['Provider Name', 'Provider State'])[' Average Total Payments '].median().sort_values(ascending=True)"
      ],
      "execution_count": 25,
      "outputs": [
        {
          "output_type": "execute_result",
          "data": {
            "text/plain": [
              "Provider Name                               Provider State\n",
              "TURNING POINT HOSPITAL                      GA                3291.31\n",
              "COMMUNITY GENERAL HOSPITAL                  TX                3623.44\n",
              "WILMINGTON TREATMENT CENTER                 NC                3639.47\n",
              "BRIGHTON HOSPITAL                           MI                3736.00\n",
              "SACRED HEART HOSPITAL ON THE GULF           FL                3810.81\n",
              "                                                               ...   \n",
              "ZUNI COMPREHENSIVE COMMUNITY HEALTH CENTER  VT                    NaN\n",
              "                                            WA                    NaN\n",
              "                                            WI                    NaN\n",
              "                                            WV                    NaN\n",
              "                                            WY                    NaN\n",
              "Name:  Average Total Payments , Length: 163251, dtype: float64"
            ]
          },
          "metadata": {},
          "execution_count": 25
        }
      ]
    },
    {
      "cell_type": "code",
      "metadata": {
        "colab": {
          "base_uri": "https://localhost:8080/",
          "height": 1000
        },
        "id": "WQsJJwpz2DfN",
        "outputId": "dfded666-43cc-4981-b83f-7ec98196acb4"
      },
      "source": [
        "hospital_df.groupby('Provider State')[' Average Total Payments '].describe()"
      ],
      "execution_count": 26,
      "outputs": [
        {
          "output_type": "execute_result",
          "data": {
            "text/html": [
              "<div>\n",
              "<style scoped>\n",
              "    .dataframe tbody tr th:only-of-type {\n",
              "        vertical-align: middle;\n",
              "    }\n",
              "\n",
              "    .dataframe tbody tr th {\n",
              "        vertical-align: top;\n",
              "    }\n",
              "\n",
              "    .dataframe thead th {\n",
              "        text-align: right;\n",
              "    }\n",
              "</style>\n",
              "<table border=\"1\" class=\"dataframe\">\n",
              "  <thead>\n",
              "    <tr style=\"text-align: right;\">\n",
              "      <th></th>\n",
              "      <th>count</th>\n",
              "      <th>mean</th>\n",
              "      <th>std</th>\n",
              "      <th>min</th>\n",
              "      <th>25%</th>\n",
              "      <th>50%</th>\n",
              "      <th>75%</th>\n",
              "      <th>max</th>\n",
              "    </tr>\n",
              "    <tr>\n",
              "      <th>Provider State</th>\n",
              "      <th></th>\n",
              "      <th></th>\n",
              "      <th></th>\n",
              "      <th></th>\n",
              "      <th></th>\n",
              "      <th></th>\n",
              "      <th></th>\n",
              "      <th></th>\n",
              "    </tr>\n",
              "  </thead>\n",
              "  <tbody>\n",
              "    <tr>\n",
              "      <th>AK</th>\n",
              "      <td>231.0</td>\n",
              "      <td>14572.391732</td>\n",
              "      <td>10439.549042</td>\n",
              "      <td>4717.04</td>\n",
              "      <td>8394.8600</td>\n",
              "      <td>11190.080</td>\n",
              "      <td>17149.8150</td>\n",
              "      <td>77566.38</td>\n",
              "    </tr>\n",
              "    <tr>\n",
              "      <th>AL</th>\n",
              "      <td>3635.0</td>\n",
              "      <td>7568.232149</td>\n",
              "      <td>5240.269866</td>\n",
              "      <td>2682.64</td>\n",
              "      <td>4391.4100</td>\n",
              "      <td>5876.370</td>\n",
              "      <td>8971.8000</td>\n",
              "      <td>48198.38</td>\n",
              "    </tr>\n",
              "    <tr>\n",
              "      <th>AR</th>\n",
              "      <td>2067.0</td>\n",
              "      <td>8019.248805</td>\n",
              "      <td>5683.371139</td>\n",
              "      <td>2845.78</td>\n",
              "      <td>4492.0600</td>\n",
              "      <td>6151.680</td>\n",
              "      <td>9705.9400</td>\n",
              "      <td>57325.95</td>\n",
              "    </tr>\n",
              "    <tr>\n",
              "      <th>AZ</th>\n",
              "      <td>2851.0</td>\n",
              "      <td>10154.528211</td>\n",
              "      <td>7395.819875</td>\n",
              "      <td>3002.00</td>\n",
              "      <td>5611.3000</td>\n",
              "      <td>7671.360</td>\n",
              "      <td>12092.7400</td>\n",
              "      <td>71437.35</td>\n",
              "    </tr>\n",
              "    <tr>\n",
              "      <th>CA</th>\n",
              "      <td>13064.0</td>\n",
              "      <td>12629.668472</td>\n",
              "      <td>10165.995338</td>\n",
              "      <td>3465.00</td>\n",
              "      <td>6785.8250</td>\n",
              "      <td>9378.010</td>\n",
              "      <td>14612.5200</td>\n",
              "      <td>156158.18</td>\n",
              "    </tr>\n",
              "    <tr>\n",
              "      <th>CO</th>\n",
              "      <td>1890.0</td>\n",
              "      <td>9502.685550</td>\n",
              "      <td>7085.648749</td>\n",
              "      <td>3171.91</td>\n",
              "      <td>5201.7500</td>\n",
              "      <td>7075.100</td>\n",
              "      <td>11283.9750</td>\n",
              "      <td>68294.66</td>\n",
              "    </tr>\n",
              "    <tr>\n",
              "      <th>CT</th>\n",
              "      <td>2011.0</td>\n",
              "      <td>11365.450671</td>\n",
              "      <td>8541.605347</td>\n",
              "      <td>3605.00</td>\n",
              "      <td>6264.4700</td>\n",
              "      <td>8486.630</td>\n",
              "      <td>13386.5300</td>\n",
              "      <td>73887.44</td>\n",
              "    </tr>\n",
              "    <tr>\n",
              "      <th>DC</th>\n",
              "      <td>462.0</td>\n",
              "      <td>12998.029416</td>\n",
              "      <td>10977.144909</td>\n",
              "      <td>3247.18</td>\n",
              "      <td>6824.6175</td>\n",
              "      <td>9674.820</td>\n",
              "      <td>14854.9950</td>\n",
              "      <td>99067.50</td>\n",
              "    </tr>\n",
              "    <tr>\n",
              "      <th>DE</th>\n",
              "      <td>394.0</td>\n",
              "      <td>10360.072411</td>\n",
              "      <td>7685.621933</td>\n",
              "      <td>3562.13</td>\n",
              "      <td>5558.2125</td>\n",
              "      <td>7790.755</td>\n",
              "      <td>12412.2375</td>\n",
              "      <td>50707.91</td>\n",
              "    </tr>\n",
              "    <tr>\n",
              "      <th>FL</th>\n",
              "      <td>11155.0</td>\n",
              "      <td>8826.990436</td>\n",
              "      <td>6681.061636</td>\n",
              "      <td>2769.00</td>\n",
              "      <td>4763.7550</td>\n",
              "      <td>6555.250</td>\n",
              "      <td>10446.8750</td>\n",
              "      <td>73454.80</td>\n",
              "    </tr>\n",
              "    <tr>\n",
              "      <th>GA</th>\n",
              "      <td>4968.0</td>\n",
              "      <td>8925.793915</td>\n",
              "      <td>6759.925380</td>\n",
              "      <td>2923.68</td>\n",
              "      <td>4945.9675</td>\n",
              "      <td>6699.030</td>\n",
              "      <td>10452.6775</td>\n",
              "      <td>64668.66</td>\n",
              "    </tr>\n",
              "    <tr>\n",
              "      <th>HI</th>\n",
              "      <td>442.0</td>\n",
              "      <td>12775.739525</td>\n",
              "      <td>8855.691325</td>\n",
              "      <td>4134.00</td>\n",
              "      <td>7370.4900</td>\n",
              "      <td>10148.470</td>\n",
              "      <td>15429.8700</td>\n",
              "      <td>76092.84</td>\n",
              "    </tr>\n",
              "    <tr>\n",
              "      <th>IA</th>\n",
              "      <td>1734.0</td>\n",
              "      <td>8312.571707</td>\n",
              "      <td>5878.360720</td>\n",
              "      <td>2801.33</td>\n",
              "      <td>4672.5075</td>\n",
              "      <td>6384.710</td>\n",
              "      <td>10034.7750</td>\n",
              "      <td>60629.04</td>\n",
              "    </tr>\n",
              "    <tr>\n",
              "      <th>ID</th>\n",
              "      <td>551.0</td>\n",
              "      <td>9827.180091</td>\n",
              "      <td>7051.990729</td>\n",
              "      <td>3117.69</td>\n",
              "      <td>5372.6450</td>\n",
              "      <td>7280.540</td>\n",
              "      <td>11861.1250</td>\n",
              "      <td>58577.45</td>\n",
              "    </tr>\n",
              "    <tr>\n",
              "      <th>IL</th>\n",
              "      <td>7909.0</td>\n",
              "      <td>9790.676097</td>\n",
              "      <td>7435.743933</td>\n",
              "      <td>2965.76</td>\n",
              "      <td>5362.3100</td>\n",
              "      <td>7262.640</td>\n",
              "      <td>11438.3400</td>\n",
              "      <td>85987.00</td>\n",
              "    </tr>\n",
              "    <tr>\n",
              "      <th>IN</th>\n",
              "      <td>4260.0</td>\n",
              "      <td>8756.082533</td>\n",
              "      <td>6686.742132</td>\n",
              "      <td>2718.27</td>\n",
              "      <td>4817.4850</td>\n",
              "      <td>6595.335</td>\n",
              "      <td>10313.3800</td>\n",
              "      <td>131187.35</td>\n",
              "    </tr>\n",
              "    <tr>\n",
              "      <th>KS</th>\n",
              "      <td>1638.0</td>\n",
              "      <td>8455.476422</td>\n",
              "      <td>6166.657082</td>\n",
              "      <td>2843.00</td>\n",
              "      <td>4764.0225</td>\n",
              "      <td>6404.620</td>\n",
              "      <td>10174.3050</td>\n",
              "      <td>71292.76</td>\n",
              "    </tr>\n",
              "    <tr>\n",
              "      <th>KY</th>\n",
              "      <td>3229.0</td>\n",
              "      <td>8278.588845</td>\n",
              "      <td>6050.235991</td>\n",
              "      <td>2841.00</td>\n",
              "      <td>4642.2800</td>\n",
              "      <td>6352.940</td>\n",
              "      <td>9674.0000</td>\n",
              "      <td>60711.27</td>\n",
              "    </tr>\n",
              "    <tr>\n",
              "      <th>LA</th>\n",
              "      <td>3027.0</td>\n",
              "      <td>8638.662577</td>\n",
              "      <td>6290.484377</td>\n",
              "      <td>2821.00</td>\n",
              "      <td>4796.5650</td>\n",
              "      <td>6515.910</td>\n",
              "      <td>10363.4350</td>\n",
              "      <td>57688.52</td>\n",
              "    </tr>\n",
              "    <tr>\n",
              "      <th>MA</th>\n",
              "      <td>3842.0</td>\n",
              "      <td>10279.981536</td>\n",
              "      <td>7864.121612</td>\n",
              "      <td>3284.00</td>\n",
              "      <td>5635.1825</td>\n",
              "      <td>7648.350</td>\n",
              "      <td>11824.7725</td>\n",
              "      <td>70886.81</td>\n",
              "    </tr>\n",
              "    <tr>\n",
              "      <th>MD</th>\n",
              "      <td>3330.0</td>\n",
              "      <td>12608.947664</td>\n",
              "      <td>9628.870686</td>\n",
              "      <td>2970.93</td>\n",
              "      <td>6827.1950</td>\n",
              "      <td>9124.530</td>\n",
              "      <td>14518.3425</td>\n",
              "      <td>95868.64</td>\n",
              "    </tr>\n",
              "    <tr>\n",
              "      <th>ME</th>\n",
              "      <td>888.0</td>\n",
              "      <td>8679.994977</td>\n",
              "      <td>5906.914672</td>\n",
              "      <td>3096.84</td>\n",
              "      <td>5114.1725</td>\n",
              "      <td>6802.275</td>\n",
              "      <td>10288.1025</td>\n",
              "      <td>45990.20</td>\n",
              "    </tr>\n",
              "    <tr>\n",
              "      <th>MI</th>\n",
              "      <td>5419.0</td>\n",
              "      <td>9754.420406</td>\n",
              "      <td>7346.149337</td>\n",
              "      <td>3065.11</td>\n",
              "      <td>5337.9550</td>\n",
              "      <td>7337.720</td>\n",
              "      <td>11453.4650</td>\n",
              "      <td>83332.21</td>\n",
              "    </tr>\n",
              "    <tr>\n",
              "      <th>MN</th>\n",
              "      <td>2252.0</td>\n",
              "      <td>9948.236963</td>\n",
              "      <td>7915.874506</td>\n",
              "      <td>3156.00</td>\n",
              "      <td>5410.2800</td>\n",
              "      <td>7363.800</td>\n",
              "      <td>11593.1175</td>\n",
              "      <td>82168.46</td>\n",
              "    </tr>\n",
              "    <tr>\n",
              "      <th>MO</th>\n",
              "      <td>4059.0</td>\n",
              "      <td>8724.631271</td>\n",
              "      <td>6581.980090</td>\n",
              "      <td>2743.79</td>\n",
              "      <td>4832.2950</td>\n",
              "      <td>6596.090</td>\n",
              "      <td>10216.8350</td>\n",
              "      <td>56241.21</td>\n",
              "    </tr>\n",
              "    <tr>\n",
              "      <th>MS</th>\n",
              "      <td>2410.0</td>\n",
              "      <td>8229.164826</td>\n",
              "      <td>6175.446897</td>\n",
              "      <td>2871.37</td>\n",
              "      <td>4601.8125</td>\n",
              "      <td>6187.835</td>\n",
              "      <td>9517.2175</td>\n",
              "      <td>49046.60</td>\n",
              "    </tr>\n",
              "    <tr>\n",
              "      <th>MT</th>\n",
              "      <td>506.0</td>\n",
              "      <td>9252.802767</td>\n",
              "      <td>6031.827545</td>\n",
              "      <td>3188.00</td>\n",
              "      <td>5251.7000</td>\n",
              "      <td>7228.905</td>\n",
              "      <td>11279.7775</td>\n",
              "      <td>40562.45</td>\n",
              "    </tr>\n",
              "    <tr>\n",
              "      <th>NC</th>\n",
              "      <td>5041.0</td>\n",
              "      <td>9089.435711</td>\n",
              "      <td>6676.600859</td>\n",
              "      <td>3067.33</td>\n",
              "      <td>5092.0000</td>\n",
              "      <td>6955.810</td>\n",
              "      <td>10637.3400</td>\n",
              "      <td>68045.42</td>\n",
              "    </tr>\n",
              "    <tr>\n",
              "      <th>ND</th>\n",
              "      <td>422.0</td>\n",
              "      <td>9827.638033</td>\n",
              "      <td>6573.844426</td>\n",
              "      <td>3286.37</td>\n",
              "      <td>5600.6075</td>\n",
              "      <td>7441.730</td>\n",
              "      <td>11945.1250</td>\n",
              "      <td>39845.68</td>\n",
              "    </tr>\n",
              "    <tr>\n",
              "      <th>NE</th>\n",
              "      <td>1062.0</td>\n",
              "      <td>9331.682524</td>\n",
              "      <td>6759.135388</td>\n",
              "      <td>2868.58</td>\n",
              "      <td>5235.4450</td>\n",
              "      <td>6994.555</td>\n",
              "      <td>11142.3025</td>\n",
              "      <td>59995.00</td>\n",
              "    </tr>\n",
              "    <tr>\n",
              "      <th>NH</th>\n",
              "      <td>823.0</td>\n",
              "      <td>9289.661823</td>\n",
              "      <td>7055.788661</td>\n",
              "      <td>3247.20</td>\n",
              "      <td>5181.1550</td>\n",
              "      <td>7002.260</td>\n",
              "      <td>10798.2750</td>\n",
              "      <td>65037.29</td>\n",
              "    </tr>\n",
              "    <tr>\n",
              "      <th>NJ</th>\n",
              "      <td>4826.0</td>\n",
              "      <td>10678.988647</td>\n",
              "      <td>8077.041303</td>\n",
              "      <td>3327.69</td>\n",
              "      <td>5820.3150</td>\n",
              "      <td>7950.240</td>\n",
              "      <td>12526.1225</td>\n",
              "      <td>66166.75</td>\n",
              "    </tr>\n",
              "    <tr>\n",
              "      <th>NM</th>\n",
              "      <td>917.0</td>\n",
              "      <td>9619.841091</td>\n",
              "      <td>7059.587806</td>\n",
              "      <td>2995.00</td>\n",
              "      <td>5579.0000</td>\n",
              "      <td>7313.890</td>\n",
              "      <td>11233.6100</td>\n",
              "      <td>60348.11</td>\n",
              "    </tr>\n",
              "    <tr>\n",
              "      <th>NV</th>\n",
              "      <td>1202.0</td>\n",
              "      <td>10291.718028</td>\n",
              "      <td>8188.847583</td>\n",
              "      <td>3262.92</td>\n",
              "      <td>5479.1875</td>\n",
              "      <td>7471.880</td>\n",
              "      <td>12227.1825</td>\n",
              "      <td>68829.33</td>\n",
              "    </tr>\n",
              "    <tr>\n",
              "      <th>NY</th>\n",
              "      <td>9178.0</td>\n",
              "      <td>11795.492052</td>\n",
              "      <td>10060.230524</td>\n",
              "      <td>2901.00</td>\n",
              "      <td>6041.3075</td>\n",
              "      <td>8770.130</td>\n",
              "      <td>13475.6525</td>\n",
              "      <td>140255.26</td>\n",
              "    </tr>\n",
              "    <tr>\n",
              "      <th>OH</th>\n",
              "      <td>7012.0</td>\n",
              "      <td>8808.127651</td>\n",
              "      <td>6611.880569</td>\n",
              "      <td>2673.00</td>\n",
              "      <td>4830.9025</td>\n",
              "      <td>6578.980</td>\n",
              "      <td>10323.3025</td>\n",
              "      <td>64472.53</td>\n",
              "    </tr>\n",
              "    <tr>\n",
              "      <th>OK</th>\n",
              "      <td>2520.0</td>\n",
              "      <td>8353.641036</td>\n",
              "      <td>6378.462544</td>\n",
              "      <td>2728.69</td>\n",
              "      <td>4664.5775</td>\n",
              "      <td>6295.630</td>\n",
              "      <td>9685.0150</td>\n",
              "      <td>68041.85</td>\n",
              "    </tr>\n",
              "    <tr>\n",
              "      <th>OR</th>\n",
              "      <td>1299.0</td>\n",
              "      <td>10436.192864</td>\n",
              "      <td>7931.464398</td>\n",
              "      <td>3289.15</td>\n",
              "      <td>5876.5750</td>\n",
              "      <td>7984.860</td>\n",
              "      <td>12564.1000</td>\n",
              "      <td>94904.21</td>\n",
              "    </tr>\n",
              "    <tr>\n",
              "      <th>PA</th>\n",
              "      <td>7804.0</td>\n",
              "      <td>9100.043218</td>\n",
              "      <td>6977.160085</td>\n",
              "      <td>2765.48</td>\n",
              "      <td>5014.8850</td>\n",
              "      <td>6851.850</td>\n",
              "      <td>10677.0500</td>\n",
              "      <td>100018.33</td>\n",
              "    </tr>\n",
              "    <tr>\n",
              "      <th>RI</th>\n",
              "      <td>588.0</td>\n",
              "      <td>10509.566854</td>\n",
              "      <td>7831.419602</td>\n",
              "      <td>3341.00</td>\n",
              "      <td>5920.5325</td>\n",
              "      <td>7795.985</td>\n",
              "      <td>12111.8775</td>\n",
              "      <td>56079.41</td>\n",
              "    </tr>\n",
              "    <tr>\n",
              "      <th>SC</th>\n",
              "      <td>2847.0</td>\n",
              "      <td>9132.420759</td>\n",
              "      <td>7267.055844</td>\n",
              "      <td>2868.58</td>\n",
              "      <td>4972.2000</td>\n",
              "      <td>6773.550</td>\n",
              "      <td>10510.8250</td>\n",
              "      <td>99307.30</td>\n",
              "    </tr>\n",
              "    <tr>\n",
              "      <th>SD</th>\n",
              "      <td>486.0</td>\n",
              "      <td>10141.688004</td>\n",
              "      <td>8331.971261</td>\n",
              "      <td>3226.45</td>\n",
              "      <td>5344.5200</td>\n",
              "      <td>7231.115</td>\n",
              "      <td>11934.4925</td>\n",
              "      <td>83484.14</td>\n",
              "    </tr>\n",
              "    <tr>\n",
              "      <th>TN</th>\n",
              "      <td>4168.0</td>\n",
              "      <td>8153.950854</td>\n",
              "      <td>5992.160893</td>\n",
              "      <td>2755.63</td>\n",
              "      <td>4575.7950</td>\n",
              "      <td>6184.575</td>\n",
              "      <td>9512.3250</td>\n",
              "      <td>48753.13</td>\n",
              "    </tr>\n",
              "    <tr>\n",
              "      <th>TX</th>\n",
              "      <td>11864.0</td>\n",
              "      <td>9243.979573</td>\n",
              "      <td>6955.395232</td>\n",
              "      <td>2731.00</td>\n",
              "      <td>5045.0975</td>\n",
              "      <td>6927.475</td>\n",
              "      <td>10942.9275</td>\n",
              "      <td>90701.58</td>\n",
              "    </tr>\n",
              "    <tr>\n",
              "      <th>UT</th>\n",
              "      <td>732.0</td>\n",
              "      <td>9749.907077</td>\n",
              "      <td>7165.865887</td>\n",
              "      <td>3389.57</td>\n",
              "      <td>5426.9300</td>\n",
              "      <td>7357.040</td>\n",
              "      <td>11481.8525</td>\n",
              "      <td>68039.28</td>\n",
              "    </tr>\n",
              "    <tr>\n",
              "      <th>VA</th>\n",
              "      <td>4332.0</td>\n",
              "      <td>8887.752177</td>\n",
              "      <td>6975.886355</td>\n",
              "      <td>2864.85</td>\n",
              "      <td>4792.9975</td>\n",
              "      <td>6579.580</td>\n",
              "      <td>10311.1450</td>\n",
              "      <td>74091.50</td>\n",
              "    </tr>\n",
              "    <tr>\n",
              "      <th>VT</th>\n",
              "      <td>270.0</td>\n",
              "      <td>11766.304481</td>\n",
              "      <td>8251.089432</td>\n",
              "      <td>3669.09</td>\n",
              "      <td>6727.2225</td>\n",
              "      <td>9038.380</td>\n",
              "      <td>13677.1225</td>\n",
              "      <td>56805.68</td>\n",
              "    </tr>\n",
              "    <tr>\n",
              "      <th>WA</th>\n",
              "      <td>2778.0</td>\n",
              "      <td>10543.151652</td>\n",
              "      <td>8266.163204</td>\n",
              "      <td>3490.08</td>\n",
              "      <td>5689.4125</td>\n",
              "      <td>7856.525</td>\n",
              "      <td>12374.8600</td>\n",
              "      <td>84499.26</td>\n",
              "    </tr>\n",
              "    <tr>\n",
              "      <th>WI</th>\n",
              "      <td>2834.0</td>\n",
              "      <td>9270.705618</td>\n",
              "      <td>6906.799337</td>\n",
              "      <td>3039.25</td>\n",
              "      <td>5163.5000</td>\n",
              "      <td>6970.795</td>\n",
              "      <td>10880.8350</td>\n",
              "      <td>74399.82</td>\n",
              "    </tr>\n",
              "    <tr>\n",
              "      <th>WV</th>\n",
              "      <td>1589.0</td>\n",
              "      <td>7968.480245</td>\n",
              "      <td>5856.176824</td>\n",
              "      <td>2707.87</td>\n",
              "      <td>4474.1200</td>\n",
              "      <td>6102.370</td>\n",
              "      <td>9225.4100</td>\n",
              "      <td>53943.09</td>\n",
              "    </tr>\n",
              "    <tr>\n",
              "      <th>WY</th>\n",
              "      <td>247.0</td>\n",
              "      <td>11398.485911</td>\n",
              "      <td>7856.813751</td>\n",
              "      <td>4111.00</td>\n",
              "      <td>6699.8650</td>\n",
              "      <td>8614.380</td>\n",
              "      <td>12987.1400</td>\n",
              "      <td>52791.66</td>\n",
              "    </tr>\n",
              "  </tbody>\n",
              "</table>\n",
              "</div>"
            ],
            "text/plain": [
              "                  count          mean  ...         75%        max\n",
              "Provider State                         ...                       \n",
              "AK                231.0  14572.391732  ...  17149.8150   77566.38\n",
              "AL               3635.0   7568.232149  ...   8971.8000   48198.38\n",
              "AR               2067.0   8019.248805  ...   9705.9400   57325.95\n",
              "AZ               2851.0  10154.528211  ...  12092.7400   71437.35\n",
              "CA              13064.0  12629.668472  ...  14612.5200  156158.18\n",
              "CO               1890.0   9502.685550  ...  11283.9750   68294.66\n",
              "CT               2011.0  11365.450671  ...  13386.5300   73887.44\n",
              "DC                462.0  12998.029416  ...  14854.9950   99067.50\n",
              "DE                394.0  10360.072411  ...  12412.2375   50707.91\n",
              "FL              11155.0   8826.990436  ...  10446.8750   73454.80\n",
              "GA               4968.0   8925.793915  ...  10452.6775   64668.66\n",
              "HI                442.0  12775.739525  ...  15429.8700   76092.84\n",
              "IA               1734.0   8312.571707  ...  10034.7750   60629.04\n",
              "ID                551.0   9827.180091  ...  11861.1250   58577.45\n",
              "IL               7909.0   9790.676097  ...  11438.3400   85987.00\n",
              "IN               4260.0   8756.082533  ...  10313.3800  131187.35\n",
              "KS               1638.0   8455.476422  ...  10174.3050   71292.76\n",
              "KY               3229.0   8278.588845  ...   9674.0000   60711.27\n",
              "LA               3027.0   8638.662577  ...  10363.4350   57688.52\n",
              "MA               3842.0  10279.981536  ...  11824.7725   70886.81\n",
              "MD               3330.0  12608.947664  ...  14518.3425   95868.64\n",
              "ME                888.0   8679.994977  ...  10288.1025   45990.20\n",
              "MI               5419.0   9754.420406  ...  11453.4650   83332.21\n",
              "MN               2252.0   9948.236963  ...  11593.1175   82168.46\n",
              "MO               4059.0   8724.631271  ...  10216.8350   56241.21\n",
              "MS               2410.0   8229.164826  ...   9517.2175   49046.60\n",
              "MT                506.0   9252.802767  ...  11279.7775   40562.45\n",
              "NC               5041.0   9089.435711  ...  10637.3400   68045.42\n",
              "ND                422.0   9827.638033  ...  11945.1250   39845.68\n",
              "NE               1062.0   9331.682524  ...  11142.3025   59995.00\n",
              "NH                823.0   9289.661823  ...  10798.2750   65037.29\n",
              "NJ               4826.0  10678.988647  ...  12526.1225   66166.75\n",
              "NM                917.0   9619.841091  ...  11233.6100   60348.11\n",
              "NV               1202.0  10291.718028  ...  12227.1825   68829.33\n",
              "NY               9178.0  11795.492052  ...  13475.6525  140255.26\n",
              "OH               7012.0   8808.127651  ...  10323.3025   64472.53\n",
              "OK               2520.0   8353.641036  ...   9685.0150   68041.85\n",
              "OR               1299.0  10436.192864  ...  12564.1000   94904.21\n",
              "PA               7804.0   9100.043218  ...  10677.0500  100018.33\n",
              "RI                588.0  10509.566854  ...  12111.8775   56079.41\n",
              "SC               2847.0   9132.420759  ...  10510.8250   99307.30\n",
              "SD                486.0  10141.688004  ...  11934.4925   83484.14\n",
              "TN               4168.0   8153.950854  ...   9512.3250   48753.13\n",
              "TX              11864.0   9243.979573  ...  10942.9275   90701.58\n",
              "UT                732.0   9749.907077  ...  11481.8525   68039.28\n",
              "VA               4332.0   8887.752177  ...  10311.1450   74091.50\n",
              "VT                270.0  11766.304481  ...  13677.1225   56805.68\n",
              "WA               2778.0  10543.151652  ...  12374.8600   84499.26\n",
              "WI               2834.0   9270.705618  ...  10880.8350   74399.82\n",
              "WV               1589.0   7968.480245  ...   9225.4100   53943.09\n",
              "WY                247.0  11398.485911  ...  12987.1400   52791.66\n",
              "\n",
              "[51 rows x 8 columns]"
            ]
          },
          "metadata": {},
          "execution_count": 26
        }
      ]
    },
    {
      "cell_type": "code",
      "metadata": {
        "id": "yUSAMpUE6BAM"
      },
      "source": [
        "dashboard_data = hospital_df.groupby(['Provider Name', 'Provider State'])[' Average Total Payments '].median().sort_values(ascending=True)"
      ],
      "execution_count": 30,
      "outputs": []
    },
    {
      "cell_type": "code",
      "metadata": {
        "id": "dnT0yy_9iwhY"
      },
      "source": [
        "dashboard_data.to_csv(\"dashboard_data.csv\")"
      ],
      "execution_count": 28,
      "outputs": []
    },
    {
      "cell_type": "markdown",
      "metadata": {
        "id": "WOqel_Tq6ubX"
      },
      "source": [
        ""
      ]
    },
    {
      "cell_type": "code",
      "metadata": {
        "colab": {
          "base_uri": "https://localhost:8080/"
        },
        "id": "pEr1BRpmrLPH",
        "outputId": "d610847b-04a4-4fbb-dbf1-d506852c73b8"
      },
      "source": [
        "second_dasboard =  hospital_df.groupby('Provider Zip Code')[' Average Total Payments '].mean().sort_values(ascending=True)\n",
        "second_dasboard"
      ],
      "execution_count": 31,
      "outputs": [
        {
          "output_type": "execute_result",
          "data": {
            "text/plain": [
              "Provider Zip Code\n",
              "31788     3291.310000\n",
              "78017     3623.440000\n",
              "28401     3639.470000\n",
              "48116     3736.000000\n",
              "60452     3847.630000\n",
              "             ...     \n",
              "94143    23364.711750\n",
              "94305    24354.784138\n",
              "83001    25329.143333\n",
              "93635    25592.872500\n",
              "81657    42446.710000\n",
              "Name:  Average Total Payments , Length: 3053, dtype: float64"
            ]
          },
          "metadata": {},
          "execution_count": 31
        }
      ]
    },
    {
      "cell_type": "code",
      "metadata": {
        "id": "eU96XaVGrwtb"
      },
      "source": [
        "second_dasboard.to_csv(\"second_dashboard.csv\")"
      ],
      "execution_count": 32,
      "outputs": []
    },
    {
      "cell_type": "code",
      "metadata": {
        "id": "TxWPXohm6r4W"
      },
      "source": [
        "data_described = hospital_df.groupby('Provider State')[' Average Total Payments '].describe()"
      ],
      "execution_count": 33,
      "outputs": []
    },
    {
      "cell_type": "code",
      "metadata": {
        "colab": {
          "base_uri": "https://localhost:8080/"
        },
        "id": "4eWwU9AI7g7D",
        "outputId": "a32f176e-cf4f-4274-fc1e-75a0a7e15d7c"
      },
      "source": [
        "data_described.columns"
      ],
      "execution_count": 34,
      "outputs": [
        {
          "output_type": "execute_result",
          "data": {
            "text/plain": [
              "Index(['count', 'mean', 'std', 'min', '25%', '50%', '75%', 'max'], dtype='object')"
            ]
          },
          "metadata": {},
          "execution_count": 34
        }
      ]
    },
    {
      "cell_type": "code",
      "metadata": {
        "colab": {
          "base_uri": "https://localhost:8080/",
          "height": 286
        },
        "id": "fkcPLMug7OLh",
        "outputId": "e97cc0bb-1b92-47af-d4e7-64f07188b687"
      },
      "source": [
        "plt.xticks(rotation=90)\n",
        "sns.set(rc={\"figure.figsize\":(10, 20)})\n",
        "ax = sns.boxplot(x=\"Provider State\", y=\" Average Total Payments \", data=hospital_df)"
      ],
      "execution_count": 35,
      "outputs": [
        {
          "output_type": "display_data",
          "data": {
            "image/png": "[encoded data removed]",
            "text/plain": [
              "<Figure size 432x288 with 1 Axes>"
            ]
          },
          "metadata": {
            "needs_background": "light"
          }
        }
      ]
    },
    {
      "cell_type": "code",
      "metadata": {
        "colab": {
          "base_uri": "https://localhost:8080/",
          "height": 1000
        },
        "id": "2Dn78h60-dtV",
        "outputId": "08ad2193-3053-4dcb-be7c-6dd7e312e359"
      },
      "source": [
        "plt.xticks(rotation=90)\n",
        "sns.set(rc={\"figure.figsize\":(20, 20)})\n",
        "ax = sns.boxplot(x=\"Provider State\", y=\" Average Total Payments \", data=hospital_df, showfliers=False)"
      ],
      "execution_count": 36,
      "outputs": [
        {
          "output_type": "display_data",
          "data": {
            "image/png": "[encoded data removed]",
            "text/plain": [
              "<Figure size 720x1440 with 1 Axes>"
            ]
          },
          "metadata": {}
        }
      ]
    },
    {
      "cell_type": "code",
      "metadata": {
        "id": "yKDdn-Ae-d0L"
      },
      "source": [
        "data_for_bigger_map = hospital_df.groupby(['DRG Definition','Provider State'])[' Average Total Payments '].describe()"
      ],
      "execution_count": 37,
      "outputs": []
    },
    {
      "cell_type": "code",
      "metadata": {
        "colab": {
          "base_uri": "https://localhost:8080/",
          "height": 455
        },
        "id": "i62t2L33Evtb",
        "outputId": "30aed82b-6b01-45ab-aa42-5a30a8a138c6"
      },
      "source": [
        "data_for_bigger_map"
      ],
      "execution_count": 38,
      "outputs": [
        {
          "output_type": "execute_result",
          "data": {
            "text/html": [
              "<div>\n",
              "<style scoped>\n",
              "    .dataframe tbody tr th:only-of-type {\n",
              "        vertical-align: middle;\n",
              "    }\n",
              "\n",
              "    .dataframe tbody tr th {\n",
              "        vertical-align: top;\n",
              "    }\n",
              "\n",
              "    .dataframe thead th {\n",
              "        text-align: right;\n",
              "    }\n",
              "</style>\n",
              "<table border=\"1\" class=\"dataframe\">\n",
              "  <thead>\n",
              "    <tr style=\"text-align: right;\">\n",
              "      <th></th>\n",
              "      <th></th>\n",
              "      <th>count</th>\n",
              "      <th>mean</th>\n",
              "      <th>std</th>\n",
              "      <th>min</th>\n",
              "      <th>25%</th>\n",
              "      <th>50%</th>\n",
              "      <th>75%</th>\n",
              "      <th>max</th>\n",
              "    </tr>\n",
              "    <tr>\n",
              "      <th>DRG Definition</th>\n",
              "      <th>Provider State</th>\n",
              "      <th></th>\n",
              "      <th></th>\n",
              "      <th></th>\n",
              "      <th></th>\n",
              "      <th></th>\n",
              "      <th></th>\n",
              "      <th></th>\n",
              "      <th></th>\n",
              "    </tr>\n",
              "  </thead>\n",
              "  <tbody>\n",
              "    <tr>\n",
              "      <th rowspan=\"5\" valign=\"top\">039 - EXTRACRANIAL PROCEDURES W/O CC/MCC</th>\n",
              "      <th>AK</th>\n",
              "      <td>1.0</td>\n",
              "      <td>8401.950000</td>\n",
              "      <td>NaN</td>\n",
              "      <td>8401.95</td>\n",
              "      <td>8401.9500</td>\n",
              "      <td>8401.950</td>\n",
              "      <td>8401.9500</td>\n",
              "      <td>8401.95</td>\n",
              "    </tr>\n",
              "    <tr>\n",
              "      <th>AL</th>\n",
              "      <td>23.0</td>\n",
              "      <td>5743.611739</td>\n",
              "      <td>628.702608</td>\n",
              "      <td>4968.00</td>\n",
              "      <td>5396.1050</td>\n",
              "      <td>5658.330</td>\n",
              "      <td>5882.4250</td>\n",
              "      <td>8031.12</td>\n",
              "    </tr>\n",
              "    <tr>\n",
              "      <th>AR</th>\n",
              "      <td>16.0</td>\n",
              "      <td>6118.828750</td>\n",
              "      <td>1059.463235</td>\n",
              "      <td>5225.59</td>\n",
              "      <td>5558.5000</td>\n",
              "      <td>5890.000</td>\n",
              "      <td>6174.4650</td>\n",
              "      <td>9838.11</td>\n",
              "    </tr>\n",
              "    <tr>\n",
              "      <th>AZ</th>\n",
              "      <td>24.0</td>\n",
              "      <td>7271.555833</td>\n",
              "      <td>1283.210551</td>\n",
              "      <td>5976.00</td>\n",
              "      <td>6452.8625</td>\n",
              "      <td>6959.890</td>\n",
              "      <td>7697.0975</td>\n",
              "      <td>11026.33</td>\n",
              "    </tr>\n",
              "    <tr>\n",
              "      <th>CA</th>\n",
              "      <td>67.0</td>\n",
              "      <td>8387.932687</td>\n",
              "      <td>1807.867216</td>\n",
              "      <td>6390.25</td>\n",
              "      <td>7194.3500</td>\n",
              "      <td>7863.140</td>\n",
              "      <td>8811.2200</td>\n",
              "      <td>16744.82</td>\n",
              "    </tr>\n",
              "    <tr>\n",
              "      <th>...</th>\n",
              "      <th>...</th>\n",
              "      <td>...</td>\n",
              "      <td>...</td>\n",
              "      <td>...</td>\n",
              "      <td>...</td>\n",
              "      <td>...</td>\n",
              "      <td>...</td>\n",
              "      <td>...</td>\n",
              "      <td>...</td>\n",
              "    </tr>\n",
              "    <tr>\n",
              "      <th rowspan=\"5\" valign=\"top\">948 - SIGNS &amp; SYMPTOMS W/O MCC</th>\n",
              "      <th>VT</th>\n",
              "      <td>3.0</td>\n",
              "      <td>6233.893333</td>\n",
              "      <td>853.448787</td>\n",
              "      <td>5456.83</td>\n",
              "      <td>5777.1850</td>\n",
              "      <td>6097.540</td>\n",
              "      <td>6622.4250</td>\n",
              "      <td>7147.31</td>\n",
              "    </tr>\n",
              "    <tr>\n",
              "      <th>WA</th>\n",
              "      <td>30.0</td>\n",
              "      <td>5140.298667</td>\n",
              "      <td>954.187396</td>\n",
              "      <td>4152.00</td>\n",
              "      <td>4608.5450</td>\n",
              "      <td>4981.725</td>\n",
              "      <td>5295.2900</td>\n",
              "      <td>8771.80</td>\n",
              "    </tr>\n",
              "    <tr>\n",
              "      <th>WI</th>\n",
              "      <td>39.0</td>\n",
              "      <td>4633.002308</td>\n",
              "      <td>875.788500</td>\n",
              "      <td>3708.11</td>\n",
              "      <td>4072.3300</td>\n",
              "      <td>4482.470</td>\n",
              "      <td>4873.6400</td>\n",
              "      <td>7411.21</td>\n",
              "    </tr>\n",
              "    <tr>\n",
              "      <th>WV</th>\n",
              "      <td>18.0</td>\n",
              "      <td>4040.943889</td>\n",
              "      <td>612.897980</td>\n",
              "      <td>3304.54</td>\n",
              "      <td>3629.8325</td>\n",
              "      <td>3790.255</td>\n",
              "      <td>4287.8475</td>\n",
              "      <td>5676.60</td>\n",
              "    </tr>\n",
              "    <tr>\n",
              "      <th>WY</th>\n",
              "      <td>3.0</td>\n",
              "      <td>6352.476667</td>\n",
              "      <td>477.487058</td>\n",
              "      <td>5975.26</td>\n",
              "      <td>6084.0500</td>\n",
              "      <td>6192.840</td>\n",
              "      <td>6541.0850</td>\n",
              "      <td>6889.33</td>\n",
              "    </tr>\n",
              "  </tbody>\n",
              "</table>\n",
              "<p>5025 rows × 8 columns</p>\n",
              "</div>"
            ],
            "text/plain": [
              "                                                         count  ...       max\n",
              "DRG Definition                           Provider State         ...          \n",
              "039 - EXTRACRANIAL PROCEDURES W/O CC/MCC AK                1.0  ...   8401.95\n",
              "                                         AL               23.0  ...   8031.12\n",
              "                                         AR               16.0  ...   9838.11\n",
              "                                         AZ               24.0  ...  11026.33\n",
              "                                         CA               67.0  ...  16744.82\n",
              "...                                                        ...  ...       ...\n",
              "948 - SIGNS & SYMPTOMS W/O MCC           VT                3.0  ...   7147.31\n",
              "                                         WA               30.0  ...   8771.80\n",
              "                                         WI               39.0  ...   7411.21\n",
              "                                         WV               18.0  ...   5676.60\n",
              "                                         WY                3.0  ...   6889.33\n",
              "\n",
              "[5025 rows x 8 columns]"
            ]
          },
          "metadata": {},
          "execution_count": 38
        }
      ]
    },
    {
      "cell_type": "code",
      "metadata": {
        "id": "8yF_jvKSFJ8Y"
      },
      "source": [
        "data_for_bigger_map.to_csv(\"final_dashboard.csv\")"
      ],
      "execution_count": null,
      "outputs": []
    }
  ]
}